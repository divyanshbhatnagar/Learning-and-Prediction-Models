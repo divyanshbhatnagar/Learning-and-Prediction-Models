{
 "cells": [
  {
   "cell_type": "markdown",
   "metadata": {},
   "source": [
    "##  Activity 2: K-nn classification with credit data"
   ]
  },
  {
   "cell_type": "code",
   "execution_count": 100,
   "metadata": {
    "collapsed": true
   },
   "outputs": [],
   "source": [
    "data <- read.csv(\"german_credit_data1.csv\")"
   ]
  },
  {
   "cell_type": "code",
   "execution_count": 101,
   "metadata": {
    "collapsed": false,
    "scrolled": true
   },
   "outputs": [
    {
     "data": {
      "text/plain": [
       "       X.             Age            Sex           Job        Housing   \n",
       " Min.   :  0.0   Min.   :19.00   female:310   Min.   :0.000   free:108  \n",
       " 1st Qu.:249.8   1st Qu.:27.00   male  :690   1st Qu.:2.000   own :713  \n",
       " Median :499.5   Median :33.00                Median :2.000   rent:179  \n",
       " Mean   :499.5   Mean   :35.55                Mean   :1.904             \n",
       " 3rd Qu.:749.2   3rd Qu.:42.00                3rd Qu.:2.000             \n",
       " Max.   :999.0   Max.   :75.00                Max.   :3.000             \n",
       "                                                                        \n",
       "   Saving.accounts Checking.account Credit.amount      Duration   \n",
       " little    :603    little  :274     Min.   :  250   Min.   : 4.0  \n",
       " moderate  :103    moderate:269     1st Qu.: 1366   1st Qu.:12.0  \n",
       " quite rich: 63    rich    : 63     Median : 2320   Median :18.0  \n",
       " rich      : 48    NA's    :394     Mean   : 3271   Mean   :20.9  \n",
       " NA's      :183                     3rd Qu.: 3972   3rd Qu.:24.0  \n",
       "                                    Max.   :18424   Max.   :72.0  \n",
       "                                                                  \n",
       "                Purpose     Credit.Risks\n",
       " car                :337   Min.   :1.0  \n",
       " radio/TV           :280   1st Qu.:1.0  \n",
       " furniture/equipment:181   Median :1.0  \n",
       " business           : 97   Mean   :1.3  \n",
       " education          : 59   3rd Qu.:2.0  \n",
       " repairs            : 22   Max.   :2.0  \n",
       " (Other)            : 24                "
      ]
     },
     "metadata": {},
     "output_type": "display_data"
    }
   ],
   "source": [
    "summary(data)"
   ]
  },
  {
   "cell_type": "markdown",
   "metadata": {},
   "source": [
    "# Converting data to numeric"
   ]
  },
  {
   "cell_type": "code",
   "execution_count": 102,
   "metadata": {
    "collapsed": true
   },
   "outputs": [],
   "source": [
    "data <- sapply(data, as.numeric)"
   ]
  },
  {
   "cell_type": "code",
   "execution_count": 103,
   "metadata": {
    "collapsed": true
   },
   "outputs": [],
   "source": [
    "data[is.na(data)] <- 0"
   ]
  },
  {
   "cell_type": "code",
   "execution_count": 104,
   "metadata": {
    "collapsed": true
   },
   "outputs": [],
   "source": [
    "n.points <- 1000"
   ]
  },
  {
   "cell_type": "code",
   "execution_count": 105,
   "metadata": {
    "collapsed": true
   },
   "outputs": [],
   "source": [
    "library(class)"
   ]
  },
  {
   "cell_type": "code",
   "execution_count": 106,
   "metadata": {
    "collapsed": true
   },
   "outputs": [],
   "source": [
    "final_frame <- data.frame(k = numeric(), misclassification.rate = numeric())"
   ]
  },
  {
   "cell_type": "markdown",
   "metadata": {},
   "source": [
    "# Applying knn to the data for different sampling rates"
   ]
  },
  {
   "cell_type": "code",
   "execution_count": 119,
   "metadata": {
    "collapsed": false
   },
   "outputs": [
    {
     "name": "stdout",
     "output_type": "stream",
     "text": [
      "Sampling.rate  0.6 \n",
      " \n",
      "    k misclassification.rate\n",
      "1   1                 0.3825\n",
      "2   2                 0.3925\n",
      "3   3                 0.3475\n",
      "4   4                 0.3325\n",
      "5   5                 0.3325\n",
      "6   6                 0.3475\n",
      "7   7                 0.3150\n",
      "8   8                 0.3100\n",
      "9   9                 0.2900\n",
      "10 10                 0.3025\n",
      "11 11                 0.2950\n",
      "12 12                 0.3025\n",
      "13 13                 0.2900\n",
      "14 14                 0.2825\n",
      "15 15                 0.2800\n",
      "16 16                 0.2750\n",
      "17 17                 0.2825\n",
      "18 18                 0.2800\n",
      "19 19                 0.2850\n",
      "20 20                 0.2825\n",
      "\n",
      " The least misclassification rate is     0.275 \n",
      " \n",
      "Sampling.rate  0.7 \n",
      " \n",
      "    k misclassification.rate\n",
      "1   1              0.4200000\n",
      "2   2              0.4366667\n",
      "3   3              0.3900000\n",
      "4   4              0.3733333\n",
      "5   5              0.3533333\n",
      "6   6              0.3466667\n",
      "7   7              0.3333333\n",
      "8   8              0.3566667\n",
      "9   9              0.3366667\n",
      "10 10              0.3200000\n",
      "11 11              0.3233333\n",
      "12 12              0.3200000\n",
      "13 13              0.2966667\n",
      "14 14              0.3000000\n",
      "15 15              0.3033333\n",
      "16 16              0.3100000\n",
      "17 17              0.3100000\n",
      "18 18              0.3000000\n",
      "19 19              0.3133333\n",
      "20 20              0.3133333\n",
      "\n",
      " The least misclassification rate is     0.2966667 \n",
      " \n",
      "Sampling.rate  0.8 \n",
      " \n",
      "    k misclassification.rate\n",
      "1   1                  0.350\n",
      "2   2                  0.365\n",
      "3   3                  0.330\n",
      "4   4                  0.355\n",
      "5   5                  0.335\n",
      "6   6                  0.310\n",
      "7   7                  0.300\n",
      "8   8                  0.330\n",
      "9   9                  0.295\n",
      "10 10                  0.305\n",
      "11 11                  0.285\n",
      "12 12                  0.300\n",
      "13 13                  0.295\n",
      "14 14                  0.285\n",
      "15 15                  0.280\n",
      "16 16                  0.300\n",
      "17 17                  0.280\n",
      "18 18                  0.300\n",
      "19 19                  0.305\n",
      "20 20                  0.300\n",
      "\n",
      " The least misclassification rate is     0.28 \n",
      " \n"
     ]
    }
   ],
   "source": [
    "sampling.rate <- 0.6\n",
    "for (i in 1:3){\n",
    "    cat(\"Sampling.rate \", sampling.rate, \"\\n\", \"\\n\")\n",
    "    num.test.set.labels <- n.points * (1 - sampling.rate)\n",
    "    training <- sample(1:n.points, sampling.rate * n.points, replace=FALSE)\n",
    "    train <- subset(data[training, ], select = c(Age, Sex, Job, Housing, Saving.accounts, Checking.account, Credit.amount, Duration, Purpose))\n",
    "    testing <- setdiff(1:n.points, training)\n",
    "    test <- subset(data[testing, ], select = c(Age, Sex, Job, Housing, Saving.accounts, Checking.account, Credit.amount, Duration, Purpose))\n",
    "    data <- as.data.frame(data)\n",
    "    cl <- data$Credit.Risks[training]\n",
    "    true.labels <- data$Credit.Risks[testing]\n",
    "    for (k in 1:20) {\n",
    "        predicted.labels <- knn(train, test, cl, k)\n",
    "        num.incorrect.labels <- sum(predicted.labels != true.labels)\n",
    "        misclassification.rate <- num.incorrect.labels /\n",
    "        num.test.set.labels\n",
    "        final_frame[k,] <- c(k,misclassification.rate)\n",
    "    }  \n",
    "    print(final_frame)\n",
    "    x <- min(final_frame[,2])\n",
    "    cat(\"\\n\",\"The least misclassification rate is    \",x, \"\\n\", \"\\n\")\n",
    "    final_frame <- final_frame[0,]\n",
    "    sampling.rate <- sampling.rate + 0.1\n",
    "\n",
    "\n",
    "\n",
    "}\n",
    "\n",
    "\n",
    "\n",
    "\n",
    "\n",
    "\n"
   ]
  },
  {
   "cell_type": "code",
   "execution_count": null,
   "metadata": {
    "collapsed": true
   },
   "outputs": [],
   "source": []
  }
 ],
 "metadata": {
  "kernelspec": {
   "display_name": "R",
   "language": "R",
   "name": "ir"
  },
  "language_info": {
   "codemirror_mode": "r",
   "file_extension": ".r",
   "mimetype": "text/x-r-source",
   "name": "R",
   "pygments_lexer": "r",
   "version": "3.3.2"
  }
 },
 "nbformat": 4,
 "nbformat_minor": 2
}
